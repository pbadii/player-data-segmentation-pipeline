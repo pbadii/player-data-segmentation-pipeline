{
 "cells": [
  {
   "cell_type": "markdown",
   "id": "bc5b682f",
   "metadata": {},
   "source": [
    "This is the beginning of the notebook! yay!\n"
   ]
  }
 ],
 "metadata": {
  "language_info": {
   "name": "python"
  }
 },
 "nbformat": 4,
 "nbformat_minor": 5
}
