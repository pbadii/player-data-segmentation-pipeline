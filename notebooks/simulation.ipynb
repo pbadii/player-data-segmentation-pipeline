{
 "cells": [
  {
   "cell_type": "markdown",
   "id": "bc5b682f",
   "metadata": {},
   "source": [
    "This is the beginning of the notebook! yay!\n"
   ]
  },
  {
   "cell_type": "code",
   "execution_count": null,
   "id": "3d5364fb",
   "metadata": {
    "vscode": {
     "languageId": "plaintext"
    }
   },
   "outputs": [],
   "source": []
  }
 ],
 "metadata": {
  "language_info": {
   "name": "python"
  }
 },
 "nbformat": 4,
 "nbformat_minor": 5
}
